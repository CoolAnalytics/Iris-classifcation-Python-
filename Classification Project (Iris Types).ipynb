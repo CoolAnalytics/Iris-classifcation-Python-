{
 "cells": [
  {
   "cell_type": "markdown",
   "id": "391f2478",
   "metadata": {},
   "source": [
    "# Classification Project on Types of Iris"
   ]
  },
  {
   "cell_type": "code",
   "execution_count": 1,
   "id": "c4e15d8a",
   "metadata": {},
   "outputs": [],
   "source": [
    "import pandas as pd"
   ]
  },
  {
   "cell_type": "markdown",
   "id": "c2e5aecc",
   "metadata": {},
   "source": [
    "## 1. Data Source"
   ]
  },
  {
   "cell_type": "markdown",
   "id": "9c269ebb",
   "metadata": {},
   "source": [
    "[Data source link](https://archive.ics.uci.edu/ml/machine-learning-databases/iris/)"
   ]
  },
  {
   "cell_type": "markdown",
   "id": "5dbcc55a",
   "metadata": {},
   "source": [
    "## 2. Import Data"
   ]
  },
  {
   "cell_type": "code",
   "execution_count": 2,
   "id": "d786bc38",
   "metadata": {},
   "outputs": [],
   "source": [
    "data_folder = 'data/'"
   ]
  },
  {
   "cell_type": "code",
   "execution_count": 3,
   "id": "79ed6938",
   "metadata": {},
   "outputs": [],
   "source": [
    "data_filename = 'iris.data'"
   ]
  },
  {
   "cell_type": "code",
   "execution_count": 4,
   "id": "f26d74fa",
   "metadata": {},
   "outputs": [],
   "source": [
    "df = \\\n",
    "pd.read_csv(data_folder + data_filename,\n",
    "           header=None)"
   ]
  },
  {
   "cell_type": "code",
   "execution_count": 5,
   "id": "6b418624",
   "metadata": {},
   "outputs": [
    {
     "data": {
      "text/html": [
       "<div>\n",
       "<style scoped>\n",
       "    .dataframe tbody tr th:only-of-type {\n",
       "        vertical-align: middle;\n",
       "    }\n",
       "\n",
       "    .dataframe tbody tr th {\n",
       "        vertical-align: top;\n",
       "    }\n",
       "\n",
       "    .dataframe thead th {\n",
       "        text-align: right;\n",
       "    }\n",
       "</style>\n",
       "<table border=\"1\" class=\"dataframe\">\n",
       "  <thead>\n",
       "    <tr style=\"text-align: right;\">\n",
       "      <th></th>\n",
       "      <th>0</th>\n",
       "      <th>1</th>\n",
       "      <th>2</th>\n",
       "      <th>3</th>\n",
       "      <th>4</th>\n",
       "    </tr>\n",
       "  </thead>\n",
       "  <tbody>\n",
       "    <tr>\n",
       "      <th>0</th>\n",
       "      <td>5.1</td>\n",
       "      <td>3.5</td>\n",
       "      <td>1.4</td>\n",
       "      <td>0.2</td>\n",
       "      <td>Iris-setosa</td>\n",
       "    </tr>\n",
       "    <tr>\n",
       "      <th>1</th>\n",
       "      <td>4.9</td>\n",
       "      <td>3.0</td>\n",
       "      <td>1.4</td>\n",
       "      <td>0.2</td>\n",
       "      <td>Iris-setosa</td>\n",
       "    </tr>\n",
       "    <tr>\n",
       "      <th>2</th>\n",
       "      <td>4.7</td>\n",
       "      <td>3.2</td>\n",
       "      <td>1.3</td>\n",
       "      <td>0.2</td>\n",
       "      <td>Iris-setosa</td>\n",
       "    </tr>\n",
       "  </tbody>\n",
       "</table>\n",
       "</div>"
      ],
      "text/plain": [
       "     0    1    2    3            4\n",
       "0  5.1  3.5  1.4  0.2  Iris-setosa\n",
       "1  4.9  3.0  1.4  0.2  Iris-setosa\n",
       "2  4.7  3.2  1.3  0.2  Iris-setosa"
      ]
     },
     "execution_count": 5,
     "metadata": {},
     "output_type": "execute_result"
    }
   ],
   "source": [
    "df.head(3)"
   ]
  },
  {
   "cell_type": "markdown",
   "id": "7f9aa962",
   "metadata": {},
   "source": [
    "## 3. Relabel Data Columns"
   ]
  },
  {
   "cell_type": "markdown",
   "id": "57a5dcd6",
   "metadata": {},
   "source": [
    "Attribute Information:\n",
    "   1. sepal length in cm\n",
    "   2. sepal width in cm\n",
    "   3. petal length in cm\n",
    "   4. petal width in cm\n",
    "   5. class: \n",
    "      -- Iris Setosa\n",
    "      -- Iris Versicolour\n",
    "      -- Iris Virginica"
   ]
  },
  {
   "cell_type": "code",
   "execution_count": 6,
   "id": "6b778fd2",
   "metadata": {},
   "outputs": [],
   "source": [
    "columns_names = \\\n",
    "['sepal_length', 'sepal_width', \n",
    " 'petal_length', 'petal width', \n",
    " 'class'] "
   ]
  },
  {
   "cell_type": "code",
   "execution_count": 7,
   "id": "ae3fda47",
   "metadata": {},
   "outputs": [],
   "source": [
    "df.columns = columns_names"
   ]
  },
  {
   "cell_type": "code",
   "execution_count": 8,
   "id": "1f380c10",
   "metadata": {},
   "outputs": [
    {
     "data": {
      "text/html": [
       "<div>\n",
       "<style scoped>\n",
       "    .dataframe tbody tr th:only-of-type {\n",
       "        vertical-align: middle;\n",
       "    }\n",
       "\n",
       "    .dataframe tbody tr th {\n",
       "        vertical-align: top;\n",
       "    }\n",
       "\n",
       "    .dataframe thead th {\n",
       "        text-align: right;\n",
       "    }\n",
       "</style>\n",
       "<table border=\"1\" class=\"dataframe\">\n",
       "  <thead>\n",
       "    <tr style=\"text-align: right;\">\n",
       "      <th></th>\n",
       "      <th>sepal_length</th>\n",
       "      <th>sepal_width</th>\n",
       "      <th>petal_length</th>\n",
       "      <th>petal width</th>\n",
       "      <th>class</th>\n",
       "    </tr>\n",
       "  </thead>\n",
       "  <tbody>\n",
       "    <tr>\n",
       "      <th>0</th>\n",
       "      <td>5.1</td>\n",
       "      <td>3.5</td>\n",
       "      <td>1.4</td>\n",
       "      <td>0.2</td>\n",
       "      <td>Iris-setosa</td>\n",
       "    </tr>\n",
       "    <tr>\n",
       "      <th>1</th>\n",
       "      <td>4.9</td>\n",
       "      <td>3.0</td>\n",
       "      <td>1.4</td>\n",
       "      <td>0.2</td>\n",
       "      <td>Iris-setosa</td>\n",
       "    </tr>\n",
       "    <tr>\n",
       "      <th>2</th>\n",
       "      <td>4.7</td>\n",
       "      <td>3.2</td>\n",
       "      <td>1.3</td>\n",
       "      <td>0.2</td>\n",
       "      <td>Iris-setosa</td>\n",
       "    </tr>\n",
       "    <tr>\n",
       "      <th>3</th>\n",
       "      <td>4.6</td>\n",
       "      <td>3.1</td>\n",
       "      <td>1.5</td>\n",
       "      <td>0.2</td>\n",
       "      <td>Iris-setosa</td>\n",
       "    </tr>\n",
       "    <tr>\n",
       "      <th>4</th>\n",
       "      <td>5.0</td>\n",
       "      <td>3.6</td>\n",
       "      <td>1.4</td>\n",
       "      <td>0.2</td>\n",
       "      <td>Iris-setosa</td>\n",
       "    </tr>\n",
       "    <tr>\n",
       "      <th>...</th>\n",
       "      <td>...</td>\n",
       "      <td>...</td>\n",
       "      <td>...</td>\n",
       "      <td>...</td>\n",
       "      <td>...</td>\n",
       "    </tr>\n",
       "    <tr>\n",
       "      <th>145</th>\n",
       "      <td>6.7</td>\n",
       "      <td>3.0</td>\n",
       "      <td>5.2</td>\n",
       "      <td>2.3</td>\n",
       "      <td>Iris-virginica</td>\n",
       "    </tr>\n",
       "    <tr>\n",
       "      <th>146</th>\n",
       "      <td>6.3</td>\n",
       "      <td>2.5</td>\n",
       "      <td>5.0</td>\n",
       "      <td>1.9</td>\n",
       "      <td>Iris-virginica</td>\n",
       "    </tr>\n",
       "    <tr>\n",
       "      <th>147</th>\n",
       "      <td>6.5</td>\n",
       "      <td>3.0</td>\n",
       "      <td>5.2</td>\n",
       "      <td>2.0</td>\n",
       "      <td>Iris-virginica</td>\n",
       "    </tr>\n",
       "    <tr>\n",
       "      <th>148</th>\n",
       "      <td>6.2</td>\n",
       "      <td>3.4</td>\n",
       "      <td>5.4</td>\n",
       "      <td>2.3</td>\n",
       "      <td>Iris-virginica</td>\n",
       "    </tr>\n",
       "    <tr>\n",
       "      <th>149</th>\n",
       "      <td>5.9</td>\n",
       "      <td>3.0</td>\n",
       "      <td>5.1</td>\n",
       "      <td>1.8</td>\n",
       "      <td>Iris-virginica</td>\n",
       "    </tr>\n",
       "  </tbody>\n",
       "</table>\n",
       "<p>150 rows × 5 columns</p>\n",
       "</div>"
      ],
      "text/plain": [
       "     sepal_length  sepal_width  petal_length  petal width           class\n",
       "0             5.1          3.5           1.4          0.2     Iris-setosa\n",
       "1             4.9          3.0           1.4          0.2     Iris-setosa\n",
       "2             4.7          3.2           1.3          0.2     Iris-setosa\n",
       "3             4.6          3.1           1.5          0.2     Iris-setosa\n",
       "4             5.0          3.6           1.4          0.2     Iris-setosa\n",
       "..            ...          ...           ...          ...             ...\n",
       "145           6.7          3.0           5.2          2.3  Iris-virginica\n",
       "146           6.3          2.5           5.0          1.9  Iris-virginica\n",
       "147           6.5          3.0           5.2          2.0  Iris-virginica\n",
       "148           6.2          3.4           5.4          2.3  Iris-virginica\n",
       "149           5.9          3.0           5.1          1.8  Iris-virginica\n",
       "\n",
       "[150 rows x 5 columns]"
      ]
     },
     "execution_count": 8,
     "metadata": {},
     "output_type": "execute_result"
    }
   ],
   "source": [
    "df"
   ]
  },
  {
   "cell_type": "markdown",
   "id": "e5fd8a36",
   "metadata": {},
   "source": [
    "## 4. Recode Target Variable (\"class\")"
   ]
  },
  {
   "cell_type": "markdown",
   "id": "13f51a8b",
   "metadata": {},
   "source": [
    "##### Learnig all possible values of 'class' variable:"
   ]
  },
  {
   "cell_type": "code",
   "execution_count": 9,
   "id": "18a779ba",
   "metadata": {},
   "outputs": [
    {
     "data": {
      "text/plain": [
       "Iris-setosa        50\n",
       "Iris-versicolor    50\n",
       "Iris-virginica     50\n",
       "Name: class, dtype: int64"
      ]
     },
     "execution_count": 9,
     "metadata": {},
     "output_type": "execute_result"
    }
   ],
   "source": [
    "df['class'].value_counts()"
   ]
  },
  {
   "cell_type": "markdown",
   "id": "e2df6f58",
   "metadata": {},
   "source": [
    "##### Writing function to recode the \"class\" variable:"
   ]
  },
  {
   "cell_type": "code",
   "execution_count": 10,
   "id": "120bc9f2",
   "metadata": {},
   "outputs": [],
   "source": [
    "def recode_target_variable(i):\n",
    "    if i == 'Iris-setosa':\n",
    "        return 1\n",
    "    elif i == 'Iris-versicolor':\n",
    "        return 2\n",
    "    elif i == 'Iris-virginica':\n",
    "        return 3"
   ]
  },
  {
   "cell_type": "markdown",
   "id": "28528157",
   "metadata": {},
   "source": [
    "##### Applying the function to recode the target variable to a new variable:"
   ]
  },
  {
   "cell_type": "code",
   "execution_count": 11,
   "id": "601e553d",
   "metadata": {},
   "outputs": [],
   "source": [
    "df['class_numerical'] = \\\n",
    "df['class'].apply(recode_target_variable)"
   ]
  },
  {
   "cell_type": "markdown",
   "id": "42b5cef2",
   "metadata": {},
   "source": [
    "##### Double-checking recoding results:"
   ]
  },
  {
   "cell_type": "code",
   "execution_count": 12,
   "id": "82d0985e",
   "metadata": {},
   "outputs": [
    {
     "data": {
      "text/plain": [
       "1    50\n",
       "2    50\n",
       "3    50\n",
       "Name: class_numerical, dtype: int64"
      ]
     },
     "execution_count": 12,
     "metadata": {},
     "output_type": "execute_result"
    }
   ],
   "source": [
    "df['class_numerical'].value_counts()"
   ]
  },
  {
   "cell_type": "code",
   "execution_count": 13,
   "id": "becf5426",
   "metadata": {},
   "outputs": [
    {
     "data": {
      "text/html": [
       "<div>\n",
       "<style scoped>\n",
       "    .dataframe tbody tr th:only-of-type {\n",
       "        vertical-align: middle;\n",
       "    }\n",
       "\n",
       "    .dataframe tbody tr th {\n",
       "        vertical-align: top;\n",
       "    }\n",
       "\n",
       "    .dataframe thead th {\n",
       "        text-align: right;\n",
       "    }\n",
       "</style>\n",
       "<table border=\"1\" class=\"dataframe\">\n",
       "  <thead>\n",
       "    <tr style=\"text-align: right;\">\n",
       "      <th></th>\n",
       "      <th>sepal_length</th>\n",
       "      <th>sepal_width</th>\n",
       "      <th>petal_length</th>\n",
       "      <th>petal width</th>\n",
       "      <th>class</th>\n",
       "      <th>class_numerical</th>\n",
       "    </tr>\n",
       "  </thead>\n",
       "  <tbody>\n",
       "    <tr>\n",
       "      <th>0</th>\n",
       "      <td>5.1</td>\n",
       "      <td>3.5</td>\n",
       "      <td>1.4</td>\n",
       "      <td>0.2</td>\n",
       "      <td>Iris-setosa</td>\n",
       "      <td>1</td>\n",
       "    </tr>\n",
       "    <tr>\n",
       "      <th>1</th>\n",
       "      <td>4.9</td>\n",
       "      <td>3.0</td>\n",
       "      <td>1.4</td>\n",
       "      <td>0.2</td>\n",
       "      <td>Iris-setosa</td>\n",
       "      <td>1</td>\n",
       "    </tr>\n",
       "    <tr>\n",
       "      <th>2</th>\n",
       "      <td>4.7</td>\n",
       "      <td>3.2</td>\n",
       "      <td>1.3</td>\n",
       "      <td>0.2</td>\n",
       "      <td>Iris-setosa</td>\n",
       "      <td>1</td>\n",
       "    </tr>\n",
       "    <tr>\n",
       "      <th>3</th>\n",
       "      <td>4.6</td>\n",
       "      <td>3.1</td>\n",
       "      <td>1.5</td>\n",
       "      <td>0.2</td>\n",
       "      <td>Iris-setosa</td>\n",
       "      <td>1</td>\n",
       "    </tr>\n",
       "    <tr>\n",
       "      <th>4</th>\n",
       "      <td>5.0</td>\n",
       "      <td>3.6</td>\n",
       "      <td>1.4</td>\n",
       "      <td>0.2</td>\n",
       "      <td>Iris-setosa</td>\n",
       "      <td>1</td>\n",
       "    </tr>\n",
       "    <tr>\n",
       "      <th>...</th>\n",
       "      <td>...</td>\n",
       "      <td>...</td>\n",
       "      <td>...</td>\n",
       "      <td>...</td>\n",
       "      <td>...</td>\n",
       "      <td>...</td>\n",
       "    </tr>\n",
       "    <tr>\n",
       "      <th>145</th>\n",
       "      <td>6.7</td>\n",
       "      <td>3.0</td>\n",
       "      <td>5.2</td>\n",
       "      <td>2.3</td>\n",
       "      <td>Iris-virginica</td>\n",
       "      <td>3</td>\n",
       "    </tr>\n",
       "    <tr>\n",
       "      <th>146</th>\n",
       "      <td>6.3</td>\n",
       "      <td>2.5</td>\n",
       "      <td>5.0</td>\n",
       "      <td>1.9</td>\n",
       "      <td>Iris-virginica</td>\n",
       "      <td>3</td>\n",
       "    </tr>\n",
       "    <tr>\n",
       "      <th>147</th>\n",
       "      <td>6.5</td>\n",
       "      <td>3.0</td>\n",
       "      <td>5.2</td>\n",
       "      <td>2.0</td>\n",
       "      <td>Iris-virginica</td>\n",
       "      <td>3</td>\n",
       "    </tr>\n",
       "    <tr>\n",
       "      <th>148</th>\n",
       "      <td>6.2</td>\n",
       "      <td>3.4</td>\n",
       "      <td>5.4</td>\n",
       "      <td>2.3</td>\n",
       "      <td>Iris-virginica</td>\n",
       "      <td>3</td>\n",
       "    </tr>\n",
       "    <tr>\n",
       "      <th>149</th>\n",
       "      <td>5.9</td>\n",
       "      <td>3.0</td>\n",
       "      <td>5.1</td>\n",
       "      <td>1.8</td>\n",
       "      <td>Iris-virginica</td>\n",
       "      <td>3</td>\n",
       "    </tr>\n",
       "  </tbody>\n",
       "</table>\n",
       "<p>150 rows × 6 columns</p>\n",
       "</div>"
      ],
      "text/plain": [
       "     sepal_length  sepal_width  petal_length  petal width           class  \\\n",
       "0             5.1          3.5           1.4          0.2     Iris-setosa   \n",
       "1             4.9          3.0           1.4          0.2     Iris-setosa   \n",
       "2             4.7          3.2           1.3          0.2     Iris-setosa   \n",
       "3             4.6          3.1           1.5          0.2     Iris-setosa   \n",
       "4             5.0          3.6           1.4          0.2     Iris-setosa   \n",
       "..            ...          ...           ...          ...             ...   \n",
       "145           6.7          3.0           5.2          2.3  Iris-virginica   \n",
       "146           6.3          2.5           5.0          1.9  Iris-virginica   \n",
       "147           6.5          3.0           5.2          2.0  Iris-virginica   \n",
       "148           6.2          3.4           5.4          2.3  Iris-virginica   \n",
       "149           5.9          3.0           5.1          1.8  Iris-virginica   \n",
       "\n",
       "     class_numerical  \n",
       "0                  1  \n",
       "1                  1  \n",
       "2                  1  \n",
       "3                  1  \n",
       "4                  1  \n",
       "..               ...  \n",
       "145                3  \n",
       "146                3  \n",
       "147                3  \n",
       "148                3  \n",
       "149                3  \n",
       "\n",
       "[150 rows x 6 columns]"
      ]
     },
     "execution_count": 13,
     "metadata": {},
     "output_type": "execute_result"
    }
   ],
   "source": [
    "df"
   ]
  },
  {
   "cell_type": "markdown",
   "id": "803997b3",
   "metadata": {},
   "source": [
    "## 5. Split Data to Train Dataset and Test Dataset"
   ]
  },
  {
   "cell_type": "code",
   "execution_count": 14,
   "id": "3c79a9b4",
   "metadata": {},
   "outputs": [],
   "source": [
    "import numpy as np"
   ]
  },
  {
   "cell_type": "markdown",
   "id": "c8439c6a",
   "metadata": {},
   "source": [
    "##### Creating X as feature vector"
   ]
  },
  {
   "cell_type": "code",
   "execution_count": 15,
   "id": "0147ec42",
   "metadata": {},
   "outputs": [],
   "source": [
    "X = np.array(df.iloc[:, :4])"
   ]
  },
  {
   "cell_type": "markdown",
   "id": "bbdfbbc4",
   "metadata": {},
   "source": [
    "##### Creating y as target vector"
   ]
  },
  {
   "cell_type": "code",
   "execution_count": 16,
   "id": "6e3dcaeb",
   "metadata": {},
   "outputs": [],
   "source": [
    "y = np.array(df['class_numerical'].values.tolist())"
   ]
  },
  {
   "cell_type": "markdown",
   "id": "503a0455",
   "metadata": {},
   "source": [
    "##### Splitting feature vector, target vector to train dataset and test dataset"
   ]
  },
  {
   "cell_type": "code",
   "execution_count": 17,
   "id": "6e374b77",
   "metadata": {},
   "outputs": [],
   "source": [
    "from sklearn.model_selection import train_test_split"
   ]
  },
  {
   "cell_type": "code",
   "execution_count": 18,
   "id": "c86ae794",
   "metadata": {},
   "outputs": [],
   "source": [
    "X_train, X_test, y_train, y_test = \\\n",
    "train_test_split(X, y, test_size=0.2, random_state=123,\n",
    "                 shuffle=True)"
   ]
  },
  {
   "cell_type": "markdown",
   "id": "39452c49",
   "metadata": {},
   "source": [
    "## 6. Train Model Using Training Dataset"
   ]
  },
  {
   "cell_type": "markdown",
   "id": "d6e5a5da",
   "metadata": {},
   "source": [
    "##### Using logistic regression"
   ]
  },
  {
   "cell_type": "code",
   "execution_count": 19,
   "id": "459d2e66",
   "metadata": {},
   "outputs": [],
   "source": [
    "from sklearn.linear_model import LogisticRegression"
   ]
  },
  {
   "cell_type": "code",
   "execution_count": 20,
   "id": "b38d615e",
   "metadata": {},
   "outputs": [],
   "source": [
    "logit = LogisticRegression(C=100, n_jobs=10, random_state=123, verbose=2)"
   ]
  },
  {
   "cell_type": "markdown",
   "id": "93e5f4f7",
   "metadata": {},
   "source": [
    "##### Using the train dataset to train for the logistic regression model"
   ]
  },
  {
   "cell_type": "code",
   "execution_count": 21,
   "id": "d8a2345c",
   "metadata": {},
   "outputs": [
    {
     "name": "stderr",
     "output_type": "stream",
     "text": [
      "[Parallel(n_jobs=10)]: Using backend LokyBackend with 10 concurrent workers.\n"
     ]
    },
    {
     "name": "stdout",
     "output_type": "stream",
     "text": [
      "RUNNING THE L-BFGS-B CODE\n",
      "\n",
      "           * * *\n",
      "\n",
      "Machine precision = 2.220D-16\n",
      " N =           15     M =           10\n",
      "\n",
      "At X0         0 variables are exactly at the bounds\n",
      "\n",
      "At iterate    0    f=  1.31833D+02    |proj g|=  9.85333D+01\n",
      "\n",
      "At iterate    1    f=  1.26026D+02    |proj g|=  1.04094D+02\n",
      "\n",
      "At iterate    2    f=  1.16689D+02    |proj g|=  7.20801D+01\n",
      "\n",
      "At iterate    3    f=  9.68441D+01    |proj g|=  9.93328D+01\n",
      "\n",
      "At iterate    4    f=  7.94581D+01    |proj g|=  5.57300D+01\n",
      "\n",
      "At iterate    5    f=  6.18048D+01    |proj g|=  3.26696D+01\n",
      "\n",
      "At iterate    6    f=  5.00164D+01    |proj g|=  1.28294D+01\n",
      "\n",
      "At iterate    7    f=  3.90757D+01    |proj g|=  4.03024D+01\n",
      "\n",
      "At iterate    8    f=  2.78724D+01    |proj g|=  9.58477D+00\n",
      "\n",
      "At iterate    9    f=  1.96851D+01    |proj g|=  2.88207D+00\n",
      "\n",
      "At iterate   10    f=  1.43748D+01    |proj g|=  5.09786D+00\n",
      "\n",
      "At iterate   11    f=  1.16492D+01    |proj g|=  2.03205D+00\n",
      "\n",
      "At iterate   12    f=  1.04364D+01    |proj g|=  2.33303D+00\n",
      "\n",
      "At iterate   13    f=  1.02982D+01    |proj g|=  4.64450D+00\n",
      "\n",
      "At iterate   14    f=  9.85769D+00    |proj g|=  2.17376D+00\n",
      "\n",
      "At iterate   15    f=  9.71896D+00    |proj g|=  1.63445D+00\n",
      "\n",
      "At iterate   16    f=  9.55599D+00    |proj g|=  1.38671D+00\n",
      "\n",
      "At iterate   17    f=  8.94923D+00    |proj g|=  4.71892D-01\n",
      "\n",
      "At iterate   18    f=  8.54040D+00    |proj g|=  5.37193D-01\n",
      "\n",
      "At iterate   19    f=  8.38426D+00    |proj g|=  8.09232D-01\n",
      "\n",
      "At iterate   20    f=  7.74936D+00    |proj g|=  1.64035D+00\n",
      "\n",
      "At iterate   21    f=  6.44189D+00    |proj g|=  1.40813D+00\n",
      "\n",
      "At iterate   22    f=  6.13930D+00    |proj g|=  1.48241D+00\n",
      "\n",
      "At iterate   23    f=  5.82008D+00    |proj g|=  5.33175D-01\n",
      "\n",
      "At iterate   24    f=  5.64652D+00    |proj g|=  2.87148D+00\n",
      "\n",
      "At iterate   25    f=  5.58340D+00    |proj g|=  2.71816D+00\n",
      "\n",
      "At iterate   26    f=  5.50593D+00    |proj g|=  2.01295D-01\n",
      "\n",
      "At iterate   27    f=  5.50166D+00    |proj g|=  5.06686D-01\n",
      "\n",
      "At iterate   28    f=  5.49434D+00    |proj g|=  1.55977D-01\n",
      "\n",
      "At iterate   29    f=  5.48570D+00    |proj g|=  1.95865D-01\n",
      "\n",
      "At iterate   30    f=  5.45754D+00    |proj g|=  4.86122D-01\n",
      "\n",
      "At iterate   31    f=  5.41837D+00    |proj g|=  5.60157D-01\n",
      "\n",
      "At iterate   32    f=  5.35535D+00    |proj g|=  2.13479D+00\n",
      "\n",
      "At iterate   33    f=  5.23061D+00    |proj g|=  1.28484D+00\n",
      "\n",
      "At iterate   34    f=  5.04518D+00    |proj g|=  1.23824D+00\n",
      "\n",
      "At iterate   35    f=  4.96976D+00    |proj g|=  1.25064D+00\n",
      "\n",
      "At iterate   36    f=  4.96385D+00    |proj g|=  9.87213D-01\n",
      "\n",
      "At iterate   37    f=  4.90681D+00    |proj g|=  2.21706D-01\n",
      "\n",
      "At iterate   38    f=  4.88561D+00    |proj g|=  1.79280D-01\n",
      "\n",
      "At iterate   39    f=  4.88165D+00    |proj g|=  8.02465D-02\n",
      "\n",
      "At iterate   40    f=  4.88026D+00    |proj g|=  4.27509D-02\n",
      "\n",
      "At iterate   41    f=  4.87995D+00    |proj g|=  3.61217D-02\n",
      "\n",
      "At iterate   42    f=  4.87955D+00    |proj g|=  3.94989D-02\n",
      "\n",
      "At iterate   43    f=  4.87906D+00    |proj g|=  2.14342D-01\n",
      "\n",
      "At iterate   44    f=  4.87667D+00    |proj g|=  1.57874D-01\n",
      "\n",
      "At iterate   45    f=  4.87492D+00    |proj g|=  2.40228D-01\n",
      "\n",
      "At iterate   46    f=  4.87369D+00    |proj g|=  2.95785D-02\n",
      "\n",
      "At iterate   47    f=  4.87303D+00    |proj g|=  2.31227D-02\n",
      "\n",
      "At iterate   48    f=  4.87291D+00    |proj g|=  2.08861D-02\n",
      "\n",
      "At iterate   49    f=  4.87253D+00    |proj g|=  1.80138D-02\n",
      "\n",
      "At iterate   50    f=  4.87232D+00    |proj g|=  3.96297D-02\n",
      "\n",
      "At iterate   51    f=  4.87184D+00    |proj g|=  4.35462D-02\n",
      "\n",
      "At iterate   52    f=  4.87048D+00    |proj g|=  8.58279D-02\n",
      "\n",
      "At iterate   53    f=  4.86723D+00    |proj g|=  1.69802D-01\n",
      "\n",
      "At iterate   54    f=  4.86269D+00    |proj g|=  2.70339D-01\n",
      "\n",
      "At iterate   55    f=  4.85541D+00    |proj g|=  4.38272D-01\n",
      "\n",
      "At iterate   56    f=  4.84754D+00    |proj g|=  2.96004D-01\n",
      "\n",
      "At iterate   57    f=  4.83656D+00    |proj g|=  2.40743D-02\n",
      "\n",
      "At iterate   58    f=  4.83648D+00    |proj g|=  3.10946D-02\n",
      "\n",
      "At iterate   59    f=  4.83642D+00    |proj g|=  1.37025D-02\n",
      "\n",
      "At iterate   60    f=  4.83640D+00    |proj g|=  1.33819D-02\n",
      "\n",
      "At iterate   61    f=  4.83613D+00    |proj g|=  2.48986D-02\n",
      "\n",
      "At iterate   62    f=  4.83467D+00    |proj g|=  4.87306D-02\n",
      "\n",
      "At iterate   63    f=  4.83198D+00    |proj g|=  5.94721D-02\n",
      "\n",
      "At iterate   64    f=  4.82562D+00    |proj g|=  2.55847D-01\n",
      "\n",
      "At iterate   65    f=  4.81825D+00    |proj g|=  4.18765D-01\n",
      "\n",
      "At iterate   66    f=  4.80582D+00    |proj g|=  8.92395D-02\n",
      "\n",
      "At iterate   67    f=  4.78041D+00    |proj g|=  4.16741D-01\n",
      "\n",
      "At iterate   68    f=  4.76094D+00    |proj g|=  2.28465D-01\n",
      "\n",
      "At iterate   69    f=  4.75366D+00    |proj g|=  2.92926D-01\n",
      "\n",
      "At iterate   70    f=  4.74832D+00    |proj g|=  2.96819D-01\n",
      "\n",
      "At iterate   71    f=  4.74218D+00    |proj g|=  9.65638D-02\n",
      "\n",
      "At iterate   72    f=  4.73954D+00    |proj g|=  1.60249D-01\n",
      "\n",
      "At iterate   73    f=  4.73264D+00    |proj g|=  3.36277D-01\n",
      "\n",
      "At iterate   74    f=  4.72732D+00    |proj g|=  3.41262D-01\n",
      "\n",
      "At iterate   75    f=  4.72148D+00    |proj g|=  2.90964D-01\n",
      "\n",
      "At iterate   76    f=  4.72038D+00    |proj g|=  4.65080D-01\n",
      "\n",
      "At iterate   77    f=  4.71541D+00    |proj g|=  2.59019D-01\n",
      "\n",
      "At iterate   78    f=  4.71298D+00    |proj g|=  6.02215D-02\n",
      "\n",
      "At iterate   79    f=  4.71257D+00    |proj g|=  3.90440D-02\n",
      "\n",
      "At iterate   80    f=  4.71184D+00    |proj g|=  4.08394D-02\n",
      "\n",
      "At iterate   81    f=  4.71001D+00    |proj g|=  1.39431D-01\n",
      "\n",
      "At iterate   82    f=  4.70814D+00    |proj g|=  2.46766D-01\n",
      "\n",
      "At iterate   83    f=  4.70538D+00    |proj g|=  6.45817D-02\n",
      "\n",
      "At iterate   84    f=  4.70395D+00    |proj g|=  6.37094D-02\n",
      "\n",
      "At iterate   85    f=  4.70273D+00    |proj g|=  7.25223D-02\n",
      "\n",
      "At iterate   86    f=  4.70128D+00    |proj g|=  3.34445D-02\n",
      "\n",
      "At iterate   87    f=  4.70020D+00    |proj g|=  2.09396D-01\n",
      "\n",
      "At iterate   88    f=  4.69619D+00    |proj g|=  8.79907D-02\n",
      "\n",
      "At iterate   89    f=  4.69083D+00    |proj g|=  7.92957D-02\n",
      "\n",
      "At iterate   90    f=  4.68837D+00    |proj g|=  3.85974D-02\n",
      "\n",
      "At iterate   91    f=  4.68812D+00    |proj g|=  9.93346D-02\n",
      "\n",
      "At iterate   92    f=  4.68768D+00    |proj g|=  3.25999D-02\n",
      "\n",
      "At iterate   93    f=  4.68758D+00    |proj g|=  1.94046D-02\n",
      "\n",
      "At iterate   94    f=  4.68756D+00    |proj g|=  1.93438D-02\n",
      "\n",
      "At iterate   95    f=  4.68742D+00    |proj g|=  7.42626D-02\n",
      "\n",
      "At iterate   96    f=  4.68719D+00    |proj g|=  8.20153D-02\n",
      "\n",
      "At iterate   97    f=  4.68680D+00    |proj g|=  1.96106D-01\n",
      "\n",
      "At iterate   98    f=  4.68589D+00    |proj g|=  1.08975D-01\n",
      "\n",
      "At iterate   99    f=  4.68532D+00    |proj g|=  6.93085D-02\n",
      "\n",
      "At iterate  100    f=  4.68519D+00    |proj g|=  2.65705D-02\n",
      "\n",
      "           * * *\n",
      "\n",
      "Tit   = total number of iterations\n",
      "Tnf   = total number of function evaluations\n",
      "Tnint = total number of segments explored during Cauchy searches\n",
      "Skip  = number of BFGS updates skipped\n",
      "Nact  = number of active bounds at final generalized Cauchy point\n",
      "Projg = norm of the final projected gradient\n",
      "F     = final function value\n",
      "\n",
      "           * * *\n",
      "\n",
      "   N    Tit     Tnf  Tnint  Skip  Nact     Projg        F\n",
      "   15    100    124      1     0     0   2.657D-02   4.685D+00\n",
      "  F =   4.6851877857099726     \n",
      "\n",
      "STOP: TOTAL NO. of ITERATIONS REACHED LIMIT                 \n",
      "total time 0.54596 sec\n"
     ]
    },
    {
     "name": "stderr",
     "output_type": "stream",
     "text": [
      " This problem is unconstrained.\n",
      "/Users/user/anaconda3/envs/ml/lib/python3.9/site-packages/sklearn/linear_model/_logistic.py:458: ConvergenceWarning: lbfgs failed to converge (status=1):\n",
      "STOP: TOTAL NO. of ITERATIONS REACHED LIMIT.\n",
      "\n",
      "Increase the number of iterations (max_iter) or scale the data as shown in:\n",
      "    https://scikit-learn.org/stable/modules/preprocessing.html\n",
      "Please also refer to the documentation for alternative solver options:\n",
      "    https://scikit-learn.org/stable/modules/linear_model.html#logistic-regression\n",
      "  n_iter_i = _check_optimize_result(\n",
      "[Parallel(n_jobs=10)]: Done   1 out of   1 | elapsed:    0.5s finished\n"
     ]
    }
   ],
   "source": [
    "import time\n",
    "\n",
    "begin = time.time()\n",
    "\n",
    "logit.fit(X_train, y_train)\n",
    "\n",
    "end = time.time()\n",
    "\n",
    "print('total time',round((end-begin),5),'sec')"
   ]
  },
  {
   "cell_type": "markdown",
   "id": "178edd6d",
   "metadata": {},
   "source": [
    "## 7. Testing Trained Legistic Regression Model on Test Dataset"
   ]
  },
  {
   "cell_type": "markdown",
   "id": "4a6304ae",
   "metadata": {},
   "source": [
    "##### Testing the trained logistic regression model on the test dataset"
   ]
  },
  {
   "cell_type": "code",
   "execution_count": 22,
   "id": "50d246ef",
   "metadata": {},
   "outputs": [],
   "source": [
    "acc_score = logit.score(X_test,y_test)"
   ]
  },
  {
   "cell_type": "markdown",
   "id": "1cc1f4d6",
   "metadata": {},
   "source": [
    "##### ACCURACY RATE from testing the model on the test dataset"
   ]
  },
  {
   "cell_type": "code",
   "execution_count": 23,
   "id": "25c40951",
   "metadata": {},
   "outputs": [
    {
     "name": "stdout",
     "output_type": "stream",
     "text": [
      "The accuracy rate of testing the trained model on the test dataset is 93.3%.\n"
     ]
    }
   ],
   "source": [
    "print('The accuracy rate of testing the trained model on the test dataset is '+str(round(acc_score*100, 1))+'%.')"
   ]
  }
 ],
 "metadata": {
  "kernelspec": {
   "display_name": "Python 3 (ipykernel)",
   "language": "python",
   "name": "python3"
  },
  "language_info": {
   "codemirror_mode": {
    "name": "ipython",
    "version": 3
   },
   "file_extension": ".py",
   "mimetype": "text/x-python",
   "name": "python",
   "nbconvert_exporter": "python",
   "pygments_lexer": "ipython3",
   "version": "3.9.13"
  }
 },
 "nbformat": 4,
 "nbformat_minor": 5
}
